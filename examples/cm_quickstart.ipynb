{
 "cells": [
  {
   "cell_type": "markdown",
   "metadata": {},
   "source": [
    "## Circlemind Quickstart Run Through\n",
    "### Getting Started"
   ]
  },
  {
   "cell_type": "code",
   "execution_count": 6,
   "metadata": {},
   "outputs": [],
   "source": [
    "import os\n",
    "from circlemind import Circlemind"
   ]
  },
  {
   "cell_type": "code",
   "execution_count": 3,
   "metadata": {},
   "outputs": [],
   "source": [
    "api_key = os.getenv(\"CIRCLEMIND_API_KEY\")"
   ]
  },
  {
   "cell_type": "markdown",
   "metadata": {},
   "source": [
    "* Q: How did the below code pick up the API key?"
   ]
  },
  {
   "cell_type": "code",
   "execution_count": 4,
   "metadata": {},
   "outputs": [
    {
     "name": "stdout",
     "output_type": "stream",
     "text": [
      "Sorry, I'm not able to provide an answer to that question.\n"
     ]
    }
   ],
   "source": [
    "# Initialize the client\n",
    "client = Circlemind()\n",
    "\n",
    "# Add a memory\n",
    "client.add(\"Sophie enjoys hiking in the Italian Alps.\")"
   ]
  },
  {
   "cell_type": "code",
   "execution_count": 5,
   "metadata": {},
   "outputs": [
    {
     "name": "stdout",
     "output_type": "stream",
     "text": [
      "Sophie likes to hike in the Italian Alps.\n"
     ]
    }
   ],
   "source": [
    "# Query memories\n",
    "res = client.query(\"Where does Sophie like to hike?\")\n",
    "print(res.response)"
   ]
  },
  {
   "cell_type": "markdown",
   "metadata": {},
   "source": [
    "### Create Graph"
   ]
  },
  {
   "cell_type": "code",
   "execution_count": 9,
   "metadata": {},
   "outputs": [
    {
     "data": {
      "text/plain": [
       "ConfigureResponse(domain='Analyze this story and identify the characters, how they interact with each other, the locations they explore, and their relationships. Focus on magical objects and how they are used.', example_queries=\"Who is Harry’s family?\\nWhich places did Hermione visit?\\nWho went to Diagon Alley?\\nWho is in charge of the wizard monetary system?\\nWho is Harry’s mentor?\\nWhat does the relationship between Harry and the Dursleys look like?\\nWho are Harry’s enemies?\\nWho are Harry’s close friends?\\nWhat does the Sorcerer's Stone do?\", entity_types=['Character', 'Creature', 'Place', 'Object', 'Activity', 'Faction', 'Spell'])"
      ]
     },
     "execution_count": 9,
     "metadata": {},
     "output_type": "execute_result"
    }
   ],
   "source": [
    "# Create the graph\n",
    "client.create_graph(\n",
    "    graph_id=\"customer-id-124\",\n",
    "    domain=\"Analyze this story and identify the characters, how they interact with each other, the locations they explore, and their relationships. Focus on magical objects and how they are used.\",\n",
    "    example_queries=[\n",
    "        \"Who is Harry’s family?\",\n",
    "        \"Which places did Hermione visit?\",\n",
    "        \"Who went to Diagon Alley?\",\n",
    "        \"Who is in charge of the wizard monetary system?\",\n",
    "        \"Who is Harry’s mentor?\",\n",
    "        \"What does the relationship between Harry and the Dursleys look like?\",\n",
    "        \"Who are Harry’s enemies?\",\n",
    "        \"Who are Harry’s close friends?\",\n",
    "        \"What does the Sorcerer's Stone do?\"\n",
    "    ],\n",
    "    entity_types=[\n",
    "        \"Character\",\n",
    "        \"Creature\",\n",
    "        \"Place\",\n",
    "        \"Object\",\n",
    "        \"Activity\",\n",
    "        \"Faction\",\n",
    "        \"Spell\"\n",
    "    ]\n",
    ")"
   ]
  },
  {
   "cell_type": "markdown",
   "metadata": {},
   "source": [
    "### Configure Graph"
   ]
  },
  {
   "cell_type": "code",
   "execution_count": 10,
   "metadata": {},
   "outputs": [
    {
     "data": {
      "text/plain": [
       "ConfigureResponse(domain='Analyze this story and identify the characters, how they interact with each other, the locations they explore, and their relationships. Focus on magical objects and how they are used.', example_queries=\"Who is Harry’s family?\\nWhich places did Hermione visit?\\nWho went to Diagon Alley?\\nWho is in charge of the wizard monetary system?\\nWho is Harry’s mentor?\\nWhat does the relationship between Harry and the Dursleys look like?\\nWho are Harry’s enemies?\\nWho are Harry’s close friends?\\nWhat does the Sorcerer's Stone do?\", entity_types=['Character', 'Creature', 'Place', 'Object', 'Activity', 'Faction', 'Spell'])"
      ]
     },
     "execution_count": 10,
     "metadata": {},
     "output_type": "execute_result"
    }
   ],
   "source": [
    "# Configure the graph\n",
    "client.configure(\n",
    "    graph_id=\"customer-id-123\",\n",
    "    domain=\"Analyze this story and identify the characters, how they interact with each other, the locations they explore, and their relationships. Focus on magical objects and how they are used.\",\n",
    "    example_queries=[\n",
    "        \"Who is Harry’s family?\",\n",
    "        \"Which places did Hermione visit?\",\n",
    "        \"Who went to Diagon Alley?\",\n",
    "        \"Who is in charge of the wizard monetary system?\",\n",
    "        \"Who is Harry’s mentor?\",\n",
    "        \"What does the relationship between Harry and the Dursleys look like?\",\n",
    "        \"Who are Harry’s enemies?\",\n",
    "        \"Who are Harry’s close friends?\",\n",
    "        \"What does the Sorcerer's Stone do?\"\n",
    "    ],\n",
    "    entity_types=[\n",
    "        \"Character\",\n",
    "        \"Creature\",\n",
    "        \"Place\",\n",
    "        \"Object\",\n",
    "        \"Activity\",\n",
    "        \"Faction\",\n",
    "        \"Spell\"\n",
    "    ]\n",
    ")\n"
   ]
  },
  {
   "cell_type": "markdown",
   "metadata": {},
   "source": [
    "### List Graphs"
   ]
  },
  {
   "cell_type": "code",
   "execution_count": 13,
   "metadata": {},
   "outputs": [
    {
     "name": "stdout",
     "output_type": "stream",
     "text": [
      "default\n",
      "customer-id-124\n",
      "customer-id-123\n"
     ]
    }
   ],
   "source": [
    "# Initialize the client\n",
    "client = Circlemind()\n",
    "\n",
    "# Query the memories\n",
    "graphs = client.list_graphs()\n",
    "\n",
    "for graph_id in graphs:\n",
    "    print(graph_id)"
   ]
  },
  {
   "cell_type": "markdown",
   "metadata": {},
   "source": [
    "### Add Memories"
   ]
  },
  {
   "cell_type": "code",
   "execution_count": 14,
   "metadata": {},
   "outputs": [],
   "source": [
    "# Add a memory\n",
    "client.add(\n",
    "    memory=\"Sophie enjoys hiking in the Italian Alps.\",\n",
    "    graph_id=\"customer-id-123\"\n",
    ")"
   ]
  },
  {
   "cell_type": "code",
   "execution_count": 15,
   "metadata": {},
   "outputs": [],
   "source": [
    "# Add a memory\n",
    "client.add(\n",
    "    memory=\"Sophie enjoys hiking in the American Cascades.\",\n",
    "    # graph_id=\"customer-id-123\"\n",
    ")"
   ]
  },
  {
   "cell_type": "code",
   "execution_count": 20,
   "metadata": {},
   "outputs": [],
   "source": [
    "r = client.add( \n",
    "                memory=\"Sophie enjoys swimming in the Pacific Ocean.\",\n",
    "                # graph_id=\"customer-id-123\"\n",
    "    )"
   ]
  },
  {
   "cell_type": "code",
   "execution_count": 21,
   "metadata": {},
   "outputs": [
    {
     "name": "stdout",
     "output_type": "stream",
     "text": [
      "None\n"
     ]
    }
   ],
   "source": [
    "print(r)"
   ]
  },
  {
   "cell_type": "code",
   "execution_count": 29,
   "metadata": {},
   "outputs": [],
   "source": [
    "# Add a memory\n",
    "client.add(\n",
    "    memory=\"Henry enjoys trail running in the American Rockies.\",\n",
    "    graph_id=\"customer-id-124\",\n",
    "    metadata={\n",
    "        \"source\": \"https://en.wikipedia.org/wiki/Trail_running\",\n",
    "        \"author\": \"John Doe\"\n",
    "    }\n",
    ")"
   ]
  },
  {
   "cell_type": "markdown",
   "metadata": {},
   "source": [
    "### Query Memories"
   ]
  },
  {
   "cell_type": "code",
   "execution_count": 33,
   "metadata": {},
   "outputs": [],
   "source": [
    "# Query the memories\n",
    "res = client.query(\n",
    "    query=\"Where does Sophie like to hike?\",\n",
    "    graph_id=\"customer-id-123\",\n",
    "    with_references=True\n",
    ")"
   ]
  },
  {
   "cell_type": "code",
   "execution_count": 34,
   "metadata": {},
   "outputs": [
    {
     "name": "stdout",
     "output_type": "stream",
     "text": [
      "Sophie likes to hike in the Italian Alps, as she enjoys hiking in that region .\n",
      "{}\n"
     ]
    }
   ],
   "source": [
    "answer, references = res.format_references()\n",
    "print(answer)  # Sophie likes to hike on the Alps [1]\n",
    "print(references)  # {'1': {<metadata>}}"
   ]
  },
  {
   "cell_type": "code",
   "execution_count": 35,
   "metadata": {},
   "outputs": [
    {
     "name": "stdout",
     "output_type": "stream",
     "text": [
      "Sophie likes to hike in the Italian Alps, as she enjoys hiking in that region .\n"
     ]
    }
   ],
   "source": [
    "answer, references = res.format_references(\n",
    "                                lambda i, metadata: f\"[{i}]({metadata['url']})\"\n",
    "                )\n",
    "print(answer)  # Sophie likes to hike on the Alps [1](https://people/profiles/sophie/preferences)\n"
   ]
  },
  {
   "cell_type": "code",
   "execution_count": 31,
   "metadata": {},
   "outputs": [],
   "source": [
    "# Query the memories\n",
    "res = client.query(\n",
    "    query=\"What does Henry like to do?\",\n",
    "    graph_id=\"customer-id-124\",\n",
    "    with_references=True\n",
    ")"
   ]
  },
  {
   "cell_type": "code",
   "execution_count": 32,
   "metadata": {},
   "outputs": [
    {
     "name": "stdout",
     "output_type": "stream",
     "text": [
      "Henry likes to trail run, particularly in the American Rockies, where he enjoys running in natural environments .\n",
      "{}\n"
     ]
    }
   ],
   "source": [
    "answer, references = res.format_references()\n",
    "print(answer)  # Sophie likes to hike on the Alps [1]\n",
    "print(references)  # {'1': {<metadata>}}"
   ]
  },
  {
   "cell_type": "code",
   "execution_count": null,
   "metadata": {},
   "outputs": [],
   "source": []
  }
 ],
 "metadata": {
  "kernelspec": {
   "display_name": "fast-graphrag-OHlWcUGf-py3.12",
   "language": "python",
   "name": "python3"
  },
  "language_info": {
   "codemirror_mode": {
    "name": "ipython",
    "version": 3
   },
   "file_extension": ".py",
   "mimetype": "text/x-python",
   "name": "python",
   "nbconvert_exporter": "python",
   "pygments_lexer": "ipython3",
   "version": "3.12.6"
  }
 },
 "nbformat": 4,
 "nbformat_minor": 2
}
